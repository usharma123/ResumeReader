{
 "cells": [
  {
   "cell_type": "markdown",
   "id": "d9a98048",
   "metadata": {},
   "source": [
    "# Resume Parser with Named Entity Recognition"
   ]
  },
  {
   "cell_type": "markdown",
   "id": "c52f9ce8",
   "metadata": {},
   "source": [
    "This notebook demonstrates how to train a Named Entity Recognition (NER) model using spaCy to parse resumes."
   ]
  },
  {
   "cell_type": "code",
   "execution_count": 4,
   "id": "97513176",
   "metadata": {},
   "outputs": [
    {
     "name": "stdout",
     "output_type": "stream",
     "text": [
      "/Users/utsavsharma/Desktop/RR/Resumes/HK.docx\n",
      "/Users/utsavsharma/Desktop/RR/Resumes/.DS_Store\n",
      "/Users/utsavsharma/Desktop/RR/Resumes/Resume (2) - Alex Kim.pdf\n",
      "/Users/utsavsharma/Desktop/RR/Resumes/Resume - Selene H.pdf\n",
      "/Users/utsavsharma/Desktop/RR/Resumes/Copy of Bản sao của LÊ MINH ĐẠT Resume - Đạt Lê minh.pdf\n",
      "/Users/utsavsharma/Desktop/RR/Resumes/Ayush.Jain_Resume - Ayush.pdf\n",
      "/Users/utsavsharma/Desktop/RR/Resumes/Mia Molinelli MASTER Resume  - Mia Molinelli.pdf\n",
      "/Users/utsavsharma/Desktop/RR/Resumes/Jayden Spitulnik Resume - Jayden Spitulnik.docx\n",
      "/Users/utsavsharma/Desktop/RR/Resumes/Andriana Detsis Fall 2023 Resume - Detsis, Andriana S..pdf\n",
      "/Users/utsavsharma/Desktop/RR/Resumes/Evan_Hadam_Resume - Evan Hadam.pdf\n",
      "/Users/utsavsharma/Desktop/RR/Resumes/navya_nair_Resume (2) - Navya Nair.pdf\n",
      "/Users/utsavsharma/Desktop/RR/Resumes/2023 Resume Ella Mendelowitz - Ella.pdf\n",
      "/Users/utsavsharma/Desktop/RR/Resumes/Ansh Parikh_2023 Resume - Ansh Parikh.pdf\n",
      "/Users/utsavsharma/Desktop/RR/Resumes/Utsav Resume - Utsav Sharma.docx\n",
      "/Users/utsavsharma/Desktop/RR/Resumes/Sanandan-CV-2023-12-20-DTE - Sanandan Ojha.docx\n",
      "/Users/utsavsharma/Desktop/RR/Resumes/Ania Updated Resume  - Ania K.pdf\n",
      "/Users/utsavsharma/Desktop/RR/Resumes/GS Resume 2023 - Gaby Smith.pdf\n",
      "/Users/utsavsharma/Desktop/RR/Resumes/Natalia Piascik Resume - Piascik, Natalia E..pdf\n"
     ]
    }
   ],
   "source": [
    "# Import necessary libraries\n",
    "import numpy as np\n",
    "import pickle\n",
    "import spacy\n",
    "import random\n",
    "from spacy.training import Example\n",
    "from spacy.util import minibatch, compounding\n",
    "import pandas as pd\n",
    "import os\n",
    "for dirname, _, filenames in os.walk('/Users/utsavsharma/Desktop/RR/Resumes'):\n",
    "    for filename in filenames:\n",
    "        print(os.path.join(dirname, filename))"
   ]
  },
  {
   "cell_type": "code",
   "execution_count": 1,
   "id": "5675ab47",
   "metadata": {},
   "outputs": [
    {
     "name": "stdout",
     "output_type": "stream",
     "text": [
      "Starting iteration 0\n",
      "{'ner': 19.313601043075323}\n",
      "Starting iteration 1\n",
      "{'ner': 18.602520409971476}\n",
      "Starting iteration 2\n",
      "{'ner': 18.238527432084084}\n",
      "Starting iteration 3\n",
      "{'ner': 16.2943418584764}\n",
      "Starting iteration 4\n",
      "{'ner': 13.613409722223878}\n",
      "Starting iteration 5\n",
      "{'ner': 9.596332433633506}\n",
      "Starting iteration 6\n",
      "{'ner': 5.979694422334433}\n",
      "Starting iteration 7\n"
     ]
    },
    {
     "name": "stderr",
     "output_type": "stream",
     "text": [
      "/Library/Frameworks/Python.framework/Versions/3.11/lib/python3.11/site-packages/spacy/training/iob_utils.py:149: UserWarning: [W030] Some entities could not be aligned in the text \"John Doe is a software engineer with 5 years of ex...\" with entities \"[(0, 8, 'PERSON'), (39, 45, 'EXPERIENCE'), (49, 55...\". Use `spacy.training.offsets_to_biluo_tags(nlp.make_doc(text), entities)` to check the alignment. Misaligned entities ('-') will be ignored during training.\n",
      "  warnings.warn(\n",
      "/Library/Frameworks/Python.framework/Versions/3.11/lib/python3.11/site-packages/spacy/training/iob_utils.py:149: UserWarning: [W030] Some entities could not be aligned in the text \"Jane Smith, a data scientist skilled in machine le...\" with entities \"[(0, 10, 'PERSON'), (14, 29, 'JOB_TITLE'), (42, 56...\". Use `spacy.training.offsets_to_biluo_tags(nlp.make_doc(text), entities)` to check the alignment. Misaligned entities ('-') will be ignored during training.\n",
      "  warnings.warn(\n"
     ]
    },
    {
     "name": "stdout",
     "output_type": "stream",
     "text": [
      "{'ner': 5.0591885706890025}\n",
      "Starting iteration 8\n",
      "{'ner': 4.6304952280224825}\n",
      "Starting iteration 9\n",
      "{'ner': 4.753946005311949}\n"
     ]
    }
   ],
   "source": [
    "# Load Blank Model\n",
    "nlp = spacy.blank('en')\n",
    "\n",
    "def train_model(train_data):\n",
    "    # Add the NER pipeline to the model\n",
    "    if 'ner' not in nlp.pipe_names:\n",
    "        ner = nlp.add_pipe('ner', last=True)\n",
    "    \n",
    "    # Add labels to the NER pipeline\n",
    "    for _, annotation in train_data:\n",
    "        for ent in annotation.get('entities'):\n",
    "            ner.add_label(ent[2])\n",
    "    \n",
    "    # Remove other pipelines if they are there\n",
    "    other_pipes = [pipe for pipe in nlp.pipe_names if pipe != 'ner']\n",
    "    with nlp.disable_pipes(*other_pipes):  # only train NER\n",
    "        optimizer = nlp.begin_training()\n",
    "        for itn in range(10):  # train for 10 iterations\n",
    "            print(\"Starting iteration \" + str(itn))\n",
    "            random.shuffle(train_data)\n",
    "            losses = {}\n",
    "            for batch in minibatch(train_data, size=compounding(4.0, 32.0, 1.5)):\n",
    "                for text, annotations in batch:\n",
    "                    try:\n",
    "                        doc = nlp.make_doc(text)\n",
    "                        example = Example.from_dict(doc, annotations)\n",
    "                        nlp.update(\n",
    "                            [example],  # batch of examples\n",
    "                            drop=0.2,  # dropout - make it harder to memorize data\n",
    "                            sgd=optimizer,  # callable to update weights\n",
    "                            losses=losses)\n",
    "                    except Exception as e:\n",
    "                        print(f\"Error in iteration {itn}: {e}\")\n",
    "                        pass\n",
    "                \n",
    "            print(losses)\n",
    "\n",
    "# Example training data\n",
    "train_data = [\n",
    "    (\"John Doe is a software engineer with 5 years of experience in Python and Java.\", {\"entities\": [(0, 8, \"PERSON\"), (39, 45, \"EXPERIENCE\"), (49, 55, \"EXPERIENCE\"), (59, 65, \"SKILL\"), (70, 74, \"SKILL\")]}),\n",
    "    (\"Jane Smith, a data scientist skilled in machine learning and statistical analysis.\", {\"entities\": [(0, 10, \"PERSON\"), (14, 29, \"JOB_TITLE\"), (42, 56, \"SKILL\"), (61, 81, \"SKILL\")]}),\n",
    "]\n",
    "\n",
    "# Start Training model\n",
    "train_model(train_data)"
   ]
  },
  {
   "cell_type": "markdown",
   "id": "b7bb19c8",
   "metadata": {},
   "source": [
    "## Test the trained model on new resumes"
   ]
  },
  {
   "cell_type": "code",
   "execution_count": 2,
   "id": "47fdfd6f",
   "metadata": {},
   "outputs": [
    {
     "name": "stdout",
     "output_type": "stream",
     "text": [
      "Entities in 'Emily Clark, a senior data analyst with 10 years of experience in SQL and Python.':\n",
      "Entities in 'Michael Brown is a machine learning engineer with expertise in TensorFlow and PyTorch.':\n"
     ]
    }
   ],
   "source": [
    "# Example resumes\n",
    "resumes = [\n",
    "    \"Emily Clark, a senior data analyst with 10 years of experience in SQL and Python.\",\n",
    "    \"Michael Brown is a machine learning engineer with expertise in TensorFlow and PyTorch.\",\n",
    "]\n",
    "\n",
    "# Use the trained model to process the resumes\n",
    "for resume in resumes:\n",
    "    doc = nlp(resume)\n",
    "    print(f\"Entities in '{resume}':\")\n",
    "    for ent in doc.ents:\n",
    "        print(f\" - {ent.text} ({ent.label_})\")"
   ]
  }
 ],
 "metadata": {
  "kernelspec": {
   "display_name": "Python 3",
   "language": "python",
   "name": "python3"
  },
  "language_info": {
   "codemirror_mode": {
    "name": "ipython",
    "version": 3
   },
   "file_extension": ".py",
   "mimetype": "text/x-python",
   "name": "python",
   "nbconvert_exporter": "python",
   "pygments_lexer": "ipython3",
   "version": "3.11.8"
  }
 },
 "nbformat": 4,
 "nbformat_minor": 5
}
