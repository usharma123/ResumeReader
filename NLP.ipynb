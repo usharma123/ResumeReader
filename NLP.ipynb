{
 "cells": [
  {
   "cell_type": "code",
   "execution_count": 21,
   "metadata": {},
   "outputs": [],
   "source": [
    "import os\n",
    "import fitz  # PyMuPDF for PDF handling\n",
    "import spacy\n",
    "import certifi\n",
    "\n",
    "# Set the SSL_CERT_FILE environment variable for SSL certificate verification\n",
    "os.environ['SSL_CERT_FILE'] = certifi.where()\n",
    "\n",
    "def read_pdf(file_path):\n",
    "    doc = fitz.open(file_path)\n",
    "    text = \"\"\n",
    "    for page in doc:\n",
    "        text += page.get_text()\n",
    "    return text\n",
    "\n",
    "def preprocess_text(text):\n",
    "    # Remove extra spaces and newlines\n",
    "    return \" \".join(text.split())\n",
    "\n",
    "# Directory containing the resume files\n",
    "resumes_directory = '/Users/utsavsharma/Desktop/RR/Resumes'\n",
    "\n",
    "# List to store the contents of each resume\n",
    "resumes = []\n",
    "\n",
    "# Iterate through each file in the directory\n",
    "for filename in os.listdir(resumes_directory):\n",
    "    file_path = os.path.join(resumes_directory, filename)\n",
    "    if filename.endswith('.pdf'):\n",
    "        resumes.append(preprocess_text(read_pdf(file_path)))"
   ]
  },
  {
   "cell_type": "code",
   "execution_count": 22,
   "metadata": {},
   "outputs": [
    {
     "name": "stdout",
     "output_type": "stream",
     "text": [
      "Entities in resume: [('Alexander Kim kim.a@ufl.edu 321-594-8873', 'PERSON'), ('4.00', 'CARDINAL'), ('Honors Program', 'ORG'), ('Univeristy Research Scholars Program', 'ORG'), ('June 2020 - December 2023', 'DATE'), ('weekly', 'DATE'), ('Dream Team Engineering University', 'ORG'), ('2023 - Present • Collaborate', 'DATE'), ('UF Health Shands Hospital', 'ORG'), ('• Design', 'PRODUCT'), ('Technology Student Association Celebration High School • President', 'ORG'), ('2019 - May 2023', 'DATE'), ('FL', 'ORG'), ('• Led', 'PERSON'), ('three', 'CARDINAL'), ('Society of Robotic Surgery', 'ORG'), ('May 2020 - May 2022', 'DATE'), ('2020', 'DATE'), ('• Awarded', 'ORG'), ('2021', 'DATE'), ('TabbedIn Dream', 'ORG'), ('2023 DTE Prescription', 'MONEY'), ('Jigsaw Jutsu Technology Student Association • https://simmer.io/@bob011/tsa2023videogame-team2725-1 • February 2023', 'ORG'), ('the Florida State TSA Conference Video Game Design', 'ORG'), ('• Served', 'PERSON'), ('SKILLS Java Python', 'PERSON'), ('C++ Unity', 'PERSON')]\n",
      "Entities in resume: [('Selene Hsu', 'PERSON'), ('407', 'CARDINAL'), ('793', 'CARDINAL'), ('Orlando', 'GPE'), ('FL', 'ORG'), ('32828', 'DATE'), ('EDUCATION University of Florida Expected Graduation', 'ORG'), ('May 2026', 'DATE'), ('3.38', 'CARDINAL'), ('Materials', 'GPE'), ('Intro', 'ORG'), ('Electrical Engineering SKILLS & CERTIFICATIONS', 'ORG'), ('MATLAB', 'ORG'), ('Arduino', 'ORG'), ('Java', 'PERSON'), ('Microsoft Office Certifications', 'ORG'), ('English', 'LANGUAGE'), ('Chinese', 'NORP'), ('Orlando', 'GPE'), ('Orlando', 'GPE'), ('FL', 'ORG'), ('May 2022 - Aug. 2022', 'DATE'), ('CT', 'ORG'), ('LEADERSHIP & INVOLVEMENT', 'ORG'), ('Oct. 2023', 'DATE'), ('Oct. 2023', 'DATE'), ('First-Year Leadership Program', 'DATE'), ('May 2023 - Present', 'DATE'), ('first-year', 'DATE'), ('first-year', 'DATE'), ('Dream Team Engineering', 'ORG'), ('Sept. 2022 - Present', 'DATE'), ('CT', 'ORG'), ('UF Health Shands', 'ORG'), ('Chinese American Student Association', 'ORG'), ('Sept. 2022 - Present', 'DATE')]\n",
      "Entities in resume: [('Nam Tu Liem', 'PERSON'), ('Hanoi', 'GPE'), ('Vietnam', 'GPE'), ('EDUCATIONAL BACKGROUND International', 'ORG'), ('Mathematics Specialized', 'PERSON'), ('2016', 'DATE'), ('2020', 'DATE'), ('Marie Curie', 'PERSON'), ('2020', 'DATE'), ('2023', 'DATE'), ('GPA Grade', 'ORG'), ('9', 'CARDINAL'), ('8.7', 'CARDINAL'), ('Grade', 'PRODUCT'), ('10', 'CARDINAL'), ('8.8', 'CARDINAL'), ('Grade 11', 'PRODUCT'), ('9.3', 'CARDINAL'), ('Gold Medal', 'ORG'), ('Asian', 'NORP'), ('MathematiCo - International Math and Science Competitions', 'ORG'), ('2022', 'DATE'), ('Asian', 'NORP'), ('Asian', 'NORP'), ('nearly 100,000', 'CARDINAL'), ('20', 'CARDINAL'), ('Mathematics', 'NORP'), ('5000', 'CARDINAL'), ('Science, Mathematics', 'ORG'), ('Award - National', 'ORG'), ('1%', 'PERCENT'), ('ACSL American Computer Science League', 'ORG'), ('5', 'CARDINAL'), (\"Vin University's\", 'ORG'), ('Science & Technology Competition', 'ORG'), ('Application of Allee', 'ORG'), ('2021 - Dec', 'DATE'), ('2021', 'DATE'), ('700', 'CARDINAL'), ('Vin University', 'ORG'), ('the Vietnam Medical Journal', 'ORG'), ('1', 'CARDINAL'), ('519', 'CARDINAL'), ('7.5', 'CARDINAL'), ('AP', 'ORG'), ('5', 'CARDINAL'), ('Computer Science A', 'ORG'), ('5', 'CARDINAL'), ('1540', 'DATE'), ('800|', 'CARDINAL'), ('740', 'CARDINAL'), ('DEVELOPMENT RESEARCH &', 'ORG'), ('Bvest - Smart', 'PERSON'), ('July 2020', 'DATE'), ('2021', 'DATE'), ('Team Project', 'ORG'), ('July 2020 - August 2021', 'DATE'), ('AI', 'ORG'), ('SOS', 'ORG'), ('Team Project Oct 2021', 'ORG'), ('Mar 2022', 'DATE'), ('Gold Medal', 'WORK_OF_ART'), ('Istanbul', 'GPE'), ('Turkey', 'GPE'), ('Research', 'ORG'), ('HUST', 'ORG'), ('Internet of Things” Summer', 'WORK_OF_ART'), ('Jun 2022', 'PERSON'), ('2022', 'DATE'), ('8-week', 'DATE'), ('AI', 'ORG'), ('Hanoi University of Science and Technology', 'ORG'), ('Makipos Electric Company Supported', 'ORG'), ('Research Collaborator', 'ORG'), ('Solar', 'PRODUCT'), ('Jul 2022', 'ORG'), ('2022', 'DATE'), ('AI', 'ORG'), ('weekly', 'DATE'), ('Artificial Intelligence workshops Technical', 'ORG'), ('Java', 'PERSON'), ('Matlab', 'PERSON'), ('Arduino', 'PERSON'), ('Rasberry Pi', 'PERSON'), ('Lua University of Florida Computer Science', 'ORG'), ('2023', 'DATE'), ('34', 'CARDINAL'), ('Allocated', 'ORG'), ('monthly', 'DATE'), ('Hanoi', 'GPE'), ('32', 'CARDINAL'), ('Green Mission”', 'WORK_OF_ART'), ('03', 'CARDINAL'), ('67', 'CARDINAL'), ('1000', 'MONEY'), ('DIY', 'ORG'), ('Binh Minh School', 'ORG'), ('Hanoi', 'GPE'), ('80', 'CARDINAL'), ('Dong Anh', 'GPE'), ('CO-FOUNDER', 'ORG'), ('Club Nov 2021', 'ORG'), ('HOBBIES & INTERESTS Sports', 'ORG'), ('Crescent Club Jul 2020', 'ORG'), ('summer', 'DATE'), ('Hoang Mai Handicapped Center', 'ORG'), ('70', 'CARDINAL'), ('Computer Science', 'ORG'), ('Center', 'ORG'), ('06', 'CARDINAL'), ('Hosted', 'ORG'), ('Coordinated', 'ORG'), ('Drafted', 'ORG'), ('Poetry DeepLearning', 'PERSON'), ('Coursera Certificate Nov', 'PERSON'), ('Deep Learning Improving Deep Neural Networks', 'WORK_OF_ART'), ('Convolutional Neural', 'ORG'), ('Sequence', 'ORG')]\n",
      "Entities in resume: [('B.S.', 'GPE'), ('Biochemistry', 'GPE'), ('Statistics University of Florida •Cumulative', 'ORG'), ('GPA', 'ORG'), ('4.00 08/2023', 'CARDINAL'), ('Gainesville', 'PERSON'), ('FL •Honors Program', 'ORG'), ('University Research Scholars Program Recipient •Courses Taken & In Progress', 'ORG'), ('Statistical Modeling', 'PERSON'), ('AP Biology', 'ORG'), ('AP Physics C: Mechanics', 'ORG'), ('AP Physics C', 'ORG'), ('E & M', 'ORG'), ('AP Calculus BC PROFESSIONAL EXPERIENCE Undergraduate Researcher University of Florida •Will', 'ORG'), ('Allen', 'PERSON'), ('2024', 'DATE'), ('Research Intern Florida Institute of Technology', 'ORG'), ('Using Finite Element Analysis and Experimental Investigation to Optimize a Novel Bioresorbable Metal-Polymer Composite Stent for Treatment of Coarctation of the Aorta in Children', 'WORK_OF_ART'), ('Dong 06/2023', 'PERSON'), ('Onshape', 'LOC'), ('ANSYS', 'PERSON'), ('the Berlin Heart Model 09/2023', 'FAC'), ('UF Undergraduate Research Symposiums Crafting Education', 'ORG'), ('summer', 'DATE'), ('06/2021 – 08/2021', 'ORG'), ('Lincoln Douglas', 'PERSON'), ('Debate Team Co-Captain', 'ORG'), ('NCFL', 'ORG'), ('Florida American Legion', 'ORG'), ('400', 'CARDINAL'), ('Florida', 'GPE'), ('Florida', 'GPE'), ('SKILLS R & RStudio (Proficient', 'ORG'), ('Ayush Jain', 'PERSON'), ('the University of Florida', 'ORG'), ('321', 'CARDINAL'), ('213', 'CARDINAL'), ('FL', 'ORG')]\n",
      "Entities in resume: [('Mia M. Molinelli Gainesville', 'PERSON'), ('FL', 'ORG'), ('32603', 'CARDINAL'), ('813', 'CARDINAL'), ('361', 'CARDINAL'), ('5818', 'DATE'), ('Science in Management | University of Florida June 2025', 'ORG'), ('GPA', 'ORG'), ('3.69', 'CARDINAL'), ('Dean', 'PERSON'), ('2022', 'DATE'), ('2023', 'CARDINAL'), ('Bachelor of Arts', 'ORG'), ('University of Florida June 2024', 'ORG'), ('Summer Intern 05/2023', 'ORG'), ('Europe Economics', 'LOC'), ('London', 'GPE'), ('England - Trained', 'ORG'), ('ACM & CWaPE’s', 'ORG'), ('European', 'NORP'), ('10/2023', 'MONEY'), ('Management Gainesville', 'PERSON'), ('FL - Conducted', 'ORG'), ('STEM Special Events/ Design Team', 'ORG'), ('Gainesville', 'PERSON'), ('FL - Created', 'ORG'), ('Shands Children’s Hospital', 'ORG'), ('Shands Children’s Hospital', 'ORG'), ('Gainesville', 'GPE'), ('FL - Obtained', 'ORG'), ('20%', 'PERCENT'), ('25,000', 'MONEY'), ('HubSpot', 'ORG'), ('01/2022', 'ORG'), ('Sisterhood Enrichment Team', 'ORG'), ('Gainesville', 'PERSON'), ('FL', 'ORG'), ('Instagram/Facebook', 'ORG'), ('Instagram', 'LOC'), ('Kappa Delta', 'LOC'), ('01/2022', 'PERSON'), ('Tier Gainesville', 'PERSON'), ('FL - Leveraged', 'ORG'), ('09/2023', 'GPE'), ('FL - Attended', 'ORG'), ('weekly', 'DATE'), ('09/2023', 'MONEY'), ('Present Student Investment Club Gainesville', 'ORG'), ('FL', 'ORG'), ('MarketWatch', 'ORG'), ('weekly', 'DATE'), ('09/2022', 'PERSON'), ('Economics Gainesville', 'GPE'), ('FL - Cultivated', 'ORG'), ('Participant', 'PERSON'), ('Gainesville', 'PERSON'), ('FL - Completed', 'ORG'), ('17-week', 'DATE'), ('Neocis', 'GPE'), ('Florida', 'GPE'), ('Tampa', 'GPE'), ('FL - Collaborated', 'ORG'), ('the University of Florida', 'ORG'), ('10', 'CARDINAL'), ('FL - Participated', 'ORG'), ('weekly', 'DATE'), ('Venture Capital', 'ORG'), ('Camp Tampa', 'PERSON'), ('FL - Ensured', 'ORG'), ('200 + customers daily', 'DATE'), ('2000', 'MONEY'), ('05/2022', 'ORG'), ('Quintairos', 'PERSON'), ('Prieto, Wood & Boyer', 'ORG'), ('P.A. Tampa', 'PERSON'), ('FL - Provided', 'ORG'), ('60', 'CARDINAL'), ('over 100', 'CARDINAL'), ('decades', 'DATE')]\n",
      "Entities in resume: [('Andriana Detsis', 'ORG'), ('St. Petersburg', 'GPE'), ('FL', 'ORG'), ('33710', 'CARDINAL'), ('727', 'CARDINAL'), ('687', 'CARDINAL'), ('May 2025', 'DATE'), ('Statistics University', 'ORG'), ('Gainesville', 'GPE'), ('FL GPA', 'ORG'), ('3.43/4.0', 'CARDINAL'), ('Statics', 'PERSON'), ('Mechanics of Materials, Design & Manufacturing Laboratory', 'ORG'), ('Computer Programming', 'ORG'), ('MATLAB', 'ORG'), ('Numerical Methods', 'ORG'), ('Artificial Intelligence Fundamentals, Professional Communication, Introduction to Electrical Engineering', 'ORG'), ('Fluids Mechanics, Dynamics, Innovation, Engineering Statistics LEADERSHIP', 'ORG'), ('May 2023', 'DATE'), ('August 2023', 'DATE'), ('• Model', 'PRODUCT'), ('SolidWorks', 'ORG'), ('• Collaborate', 'ORG'), ('3', 'CARDINAL'), ('• Manage Excel', 'PRODUCT'), ('Society of Women Engineers Sustainability Chair', 'ORG'), ('May 2023', 'DATE'), ('May 2022', 'DATE'), ('May 2023', 'DATE'), ('Girl Scouts', 'ORG'), ('October 2021', 'DATE'), ('May 2023', 'DATE'), ('2022-23 academic year', 'DATE'), ('CADE Museum) • Communicated', 'ORG'), ('• Worked', 'PRODUCT'), ('the CADE Museum Engineers Without Borders', 'ORG'), ('August 2023', 'DATE'), ('65', 'CARDINAL'), ('Maras', 'GPE'), ('October 2022', 'DATE'), ('May 2023', 'DATE'), ('Freshman Leadership Engineering Group Diversity', 'ORG'), ('Equity & Inclusion Chair', 'ORG'), ('May 2022', 'DATE'), ('April 2023 • Support', 'DATE'), ('40+', 'DATE'), ('weekly', 'DATE'), ('Outreach Committee', 'ORG'), ('September 2021', 'DATE'), ('April 2022', 'DATE'), ('• Collaborated', 'ORG'), ('2', 'CARDINAL'), ('Gainesville', 'GPE'), ('300', 'MONEY'), ('500', 'MONEY'), ('Department of Housing & Residence Life', 'ORG'), ('August 2022', 'DATE'), ('two', 'CARDINAL'), ('a month', 'DATE'), ('• Act', 'LAW'), ('Housing', 'ORG'), ('40', 'CARDINAL'), ('daily', 'DATE'), ('SKILLS Technical: Certified SolidWorks Associate', 'ORG'), ('Adobe Photoshop', 'PERSON'), ('InDesign', 'ORG'), ('MATLAB', 'ORG'), ('Microsoft', 'ORG'), ('MOS', 'ORG'), ('Excel', 'PRODUCT'), ('PowerPoint', 'ORG'), ('Greek', 'NORP'), ('Spanish', 'NORP')]\n",
      "Entities in resume: [('Evan Hadam Tampa', 'PERSON'), ('FL', 'ORG'), ('303', 'CARDINAL'), ('FL University of Florida', 'ORG'), ('GPA', 'ORG'), ('4.0', 'CARDINAL'), ('May 2026', 'DATE'), ('Algorithms, Financial Accounting', 'ORG'), ('Software Engineering', 'ORG'), ('May 2023', 'DATE'), ('Aug. 2023', 'DATE'), ('QuidelOrtho Rochester', 'PERSON'), ('NY • Deployed Python', 'ORG'), ('AWS', 'ORG'), ('30%', 'PERCENT'), ('11,000', 'CARDINAL'), ('2 years', 'DATE'), ('• Trained', 'ORG'), ('50', 'CARDINAL'), ('2', 'CARDINAL'), ('60', 'CARDINAL'), ('• Presented', 'ORG'), ('Research', 'ORG'), ('Sept. 2022 – March 2023', 'DATE'), ('UF Department of Health Outcomes and Biomedical Informatics Gainesville', 'ORG'), ('FL • Built', 'ORG'), ('ETL', 'ORG'), ('• Created Docker', 'ORG'), ('UI', 'ORG'), ('7', 'CARDINAL'), ('• Reduced', 'PRODUCT'), ('98%', 'PERCENT'), ('3 years', 'DATE'), ('200,000', 'MONEY'), ('June 2021', 'DATE'), ('Aug. 2021', 'DATE'), ('Tampa', 'GPE'), ('FL • Identified', 'ORG'), ('200', 'CARDINAL'), ('Selenium Python', 'FAC'), ('• Designed', 'PRODUCT'), ('• Started Google Analytics', 'PRODUCT'), ('350', 'CARDINAL'), ('900,000', 'MONEY'), ('Ukelele Tuner', 'PERSON'), ('TKinter', 'ORG'), ('Digital Signal Processing', 'ORG'), ('July 2023 - Aug. 2023', 'DATE'), ('a Fast Fourier Transform', 'LAW'), ('• Visualized', 'PRODUCT'), ('TKinter Leadership Data Structures', 'ORG'), ('Algorithms Teaching', 'PERSON'), ('Aug. 2023', 'DATE'), ('Present University of Florida • Grading', 'ORG'), ('C++', 'GPE'), ('over 500', 'CARDINAL'), ('• Hosting', 'ORG'), ('2', 'CARDINAL'), ('weekly', 'DATE'), ('Sponsorships', 'ORG'), ('2023', 'DATE'), ('5', 'CARDINAL'), ('over 300', 'CARDINAL'), ('5', 'CARDINAL'), ('• Sold', 'PRODUCT'), ('7', 'CARDINAL'), ('5,000', 'MONEY'), ('Sept. 2022', 'DATE'), ('UF • Organized', 'FAC'), ('10', 'CARDINAL'), ('over $50,000', 'MONEY'), ('• Generated', 'PRODUCT'), ('Summer Games', 'EVENT'), ('Selenium', 'ORG'), ('C++', 'PERSON'), ('Java', 'PERSON'), ('CSS', 'ORG'), ('JavaScript', 'ORG'), ('TypeScript', 'ORG'), ('SQL Tools/Technologies', 'ORG'), ('React.js,', 'PERSON'), ('TensorFlow', 'PRODUCT'), ('Amazon Web Services', 'ORG'), ('Firebase', 'ORG'), ('Docker', 'GPE'), ('Selenium', 'GPE'), ('Linux', 'GPE'), ('UF Undergraduate Business Case Challenge', 'ORG')]\n",
      "Entities in resume: [('954', 'CARDINAL'), ('www.linkedin.com/in/navya-nair', 'ORG'), ('Parkland', 'ORG'), ('FL Education Bachelor of Science in Biomedical Engineering', 'ORG'), ('May 2025', 'DATE'), ('• University of Florida •', 'ORG'), ('3.79/4.0', 'CARDINAL'), ('Skills • SolidWorks', 'ORG'), ('KiCad', 'PERSON'), ('PCB', 'ORG'), ('Soldering 3D Printing', 'PERSON'), ('Arduino Circuitry', 'ORG'), ('Soldering', 'GPE'), ('Adobe InDesign', 'PERSON'), ('Canva, Linux Operating System', 'ORG'), ('• Wetlab', 'PERSON'), ('Drylab', 'PERSON'), ('Lab Mouse', 'PERSON'), ('• Technical Languages', 'ORG'), ('MATLAB', 'ORG'), ('ROS2', 'PERSON'), ('Javascript', 'PERSON'), ('English', 'LANGUAGE'), ('Spanish', 'NORP'), ('Malayalam Design Experience Surgical Team', 'ORG'), ('Dream Team Engineering', 'ORG'), ('January 2023-Present • Works', 'DATE'), ('6', 'CARDINAL'), ('CAD', 'ORG'), ('UF Health', 'ORG'), ('• Attends', 'ORG'), ('weekly', 'DATE'), ('UF Health', 'ORG'), ('Autonomous Vehicles', 'ORG'), ('Mechanical Engineering', 'ORG'), ('January - May 2023', 'DATE'), ('Linux', 'GPE'), ('ROS2 • Collaborated', 'ORG'), ('three', 'CARDINAL'), ('LIDAR', 'ORG'), ('GPS', 'ORG'), ('• Tested', 'PRODUCT'), ('UF Student Government', 'ORG'), ('October 2022', 'DATE'), ('one', 'CARDINAL'), ('100', 'CARDINAL'), ('60,000', 'CARDINAL'), ('the University of Florida', 'ORG'), ('• Authored', 'PRODUCT'), ('University of Florida', 'ORG'), ('2022', 'DATE'), ('• Managed', 'PERSON'), ('48', 'CARDINAL'), ('weekly', 'DATE'), ('Work/Research Experience Research Intern', 'ORG'), ('May - August 2023 • Conceptualized', 'DATE'), ('• Conducted', 'ORG'), ('over 30', 'CARDINAL'), ('• Utilized Theia Markerless', 'ORG'), ('Visual3D', 'ORG'), ('AI Markerless', 'ORG'), ('Neurology', 'PERSON'), ('January 2022-Present • Studies', 'DATE'), ('FMT', 'ORG'), ('PD', 'LOC'), ('• Collects', 'ORG'), ('IACUC', 'ORG'), ('• Reviews', 'PERSON'), ('Publications •', 'PERSON'), ('Klann', 'PERSON'), ('et.al', 'PERSON'), ('2023', 'DATE'), ('15', 'DATE')]\n",
      "Entities in resume: [('Mendelowitz', 'PERSON'), ('813', 'CARDINAL'), ('956', 'CARDINAL'), ('AI Certificate Expected Graduation', 'ORG'), ('Gainesville', 'GPE'), ('FL GPA', 'ORG'), ('311', 'CARDINAL'), ('555', 'CARDINAL'), ('4', 'CARDINAL'), ('NAND', 'ORG'), ('ECG', 'ORG'), ('University of Florida August 2023', 'ORG'), ('RNA', 'ORG'), ('• Identified', 'PRODUCT'), ('• Explored', 'PRODUCT'), ('Undergraduate Researcher', 'ORG'), ('Dobson Lab', 'ORG'), ('University of Florida August 2022', 'ORG'), ('August 2023', 'DATE'), ('• Conducted', 'ORG'), ('• Created', 'ORG'), ('UF Dream Team', 'ORG'), ('Dec. 2021', 'DATE'), ('Supraventricular Tachycardia', 'ORG'), ('Solidworks', 'ORG'), ('Shands Dream Team Shadow', 'ORG'), ('2021', 'DATE'), ('Berlin Heart', 'PERSON'), ('Chemistry TA', 'PERSON'), ('University of Florida Aug', 'ORG'), ('2022', 'DATE'), ('May 2023', 'DATE'), ('1', 'CARDINAL'), ('2-3', 'CARDINAL'), ('INVOLVEMENT Phi Sigma Rho', 'ORG'), ('University of Florida Jan 2022 - Present Study Abroad', 'ORG'), ('University of Florida/', 'ORG'), ('July 2022', 'DATE'), ('ROV', 'ORG'), ('National Geographic', 'ORG'), ('August 2022', 'DATE'), ('• Acted', 'PRODUCT'), ('SKILLS • Software/Hardware', 'ORG'), ('MATLAB', 'ORG'), ('Leica Microscope Imaging', 'PERSON'), ('Arduino', 'ORG')]\n",
      "Entities in resume: [('Ansh Parikh', 'PERSON'), ('904', 'CARDINAL'), ('994', 'CARDINAL'), ('| linkedin.com/in/anshparikh EDUCATION University of Florida, College of Liberal Arts & Sciences Gainesville', 'ORG'), ('FL', 'ORG'), ('B.S. — Behavioural & Cognitive Neuroscience', 'ORG'), ('Aug. 2022 - Present Minors — Public Health & Spanish', 'DATE'), ('Food in Health/Wellness Stanton College Preparatory School + Florida Virtual School Jacksonville', 'ORG'), ('FL International Baccalaureate Diploma Programme', 'ORG'), ('2018 - 2022', 'DATE'), ('1500', 'CARDINAL'), ('Notable', 'GPE'), ('AP/IB HL Biology', 'ORG'), ('AP/IB SL Chemistry', 'ORG'), ('AP/IB SL + HL Spanish', 'ORG'), ('AP/IB SL Psychology', 'ORG'), ('Honors Anatomy/Physiology', 'ORG'), ('Honors Physics EXPERIENCE Dream Team Engineering', 'ORG'), ('Gainesville', 'GPE'), ('FL', 'ORG'), ('Sep. 2022', 'DATE'), ('IRB', 'ORG'), ('Volunteer', 'PRODUCT'), ('UFHealth Shands Pediatric Radiology', 'ORG'), ('Garden of Eden Moss', 'FAC'), ('GŒM', 'ORG'), ('Miami', 'GPE'), ('FL', 'ORG'), ('Aug. 2020', 'DATE'), ('2022', 'DATE'), ('Directed', 'PERSON'), ('GŒM', 'ORG'), ('5', 'CARDINAL'), ('50', 'CARDINAL'), ('Miami', 'GPE'), ('FL', 'ORG'), ('Dec. 2020 - Jun.', 'DATE'), ('GI', 'ORG'), ('Gastroenterology & Endoscopy News', 'ORG'), ('GI & Hepatology News', 'ORG'), ('Practical Gastroenterology', 'ORG'), ('ACS', 'ORG'), ('FightCRC', 'DATE'), ('CCC', 'ORG'), ('CCF', 'ORG'), ('CC Alliance', 'ORG'), ('50', 'CARDINAL'), ('Overvalued Ideas/Dr.', 'ORG'), ('Mohit Chauhan', 'PERSON'), ('Mayo Clinic', 'ORG'), ('Jacksonville', 'GPE'), ('FL', 'ORG'), ('2021', 'DATE'), ('South Asian-Americans', 'NORP'), ('COVID-19', 'ORG'), ('South Asia', 'LOC'), ('American', 'NORP'), ('South Asian', 'NORP'), ('Data Collection, Laboratory Techniques', 'ORG'), ('Multimedia Production', 'ORG'), ('IRB Protocol HONOURS:', 'ORG'), ('UF International Scholar', 'ORG'), ('Dean’s List / Presidential Honor Roll', 'ORG'), ('Spanish', 'LANGUAGE'), ('Joe Berg Science Scholar', 'PERSON'), ('AP', 'ORG'), ('Distinction OUTSIDE INTERESTS:', 'ORG'), ('Indian', 'NORP')]\n",
      "Entities in resume: [('Ania Kelegama', 'PERSON'), ('954)-541-7252', 'DATE'), ('2023', 'DATE'), ('11', 'CARDINAL'), ('AP', 'ORG'), ('2022-2023', 'DATE'), ('6', 'CARDINAL'), ('3', 'CARDINAL'), ('2022-2023', 'DATE'), ('2nd', 'DATE'), ('4th', 'ORDINAL'), ('3', 'CARDINAL'), ('2022-2023', 'DATE'), ('6', 'CARDINAL'), ('5th', 'ORDINAL'), ('2021-2022', 'DATE'), ('California Tech Science Olympiad Invitational Placed', 'ORG'), ('3', 'CARDINAL'), ('200', 'CARDINAL'), ('2021-2022', 'DATE'), ('Science Olympiad Regionals Placed', 'ORG'), ('3rd', 'ORDINAL'), ('5th', 'ORDINAL'), ('2021-2022', 'DATE'), ('AP Language', 'ORG'), ('2021-2022', 'DATE'), ('Chinese', 'NORP'), ('Award', 'PERSON'), ('2020', 'DATE'), ('4', 'CARDINAL'), ('Regionals', 'ORG'), ('4th', 'ORDINAL'), ('States', 'GPE'), ('2020', 'DATE'), ('2019-2020', 'DATE'), ('2022-2023', 'DATE'), ('Nova Southeastern University College of Pharmacy Worked', 'ORG'), ('Anastasios Lymperopoulos', 'PERSON'), ('2021-2022', 'DATE'), ('Journal of Student Research Published', 'ORG'), ('Drosophila', 'ORG'), ('2020-2021', 'DATE'), ('Florida Junior Academy of Science Presented', 'ORG'), ('Drosophila', 'ORG'), ('Humanities', 'GPE'), ('Science Presented', 'ORG'), ('Silencing the DENND1A Gene with Drug Treatment', 'WORK_OF_ART'), ('Activate Follicle Rupture', 'ORG'), ('Grades', 'PERSON'), ('9-12', 'CARDINAL'), ('Chinese', 'NORP'), ('Grades', 'PERSON'), ('9-12', 'CARDINAL'), ('10 hours', 'TIME'), ('Grades', 'PERSON'), ('10-12', 'CARDINAL'), ('Grades', 'PERSON'), ('9-12', 'CARDINAL'), ('9-12', 'PERCENT'), ('Chinese', 'NORP'), ('Chinese', 'NORP'), ('10 hours/week', 'TIME'), ('9-12', 'CARDINAL'), ('Life, Personal & Social Sciences', 'ORG'), ('12 hours', 'TIME'), ('10-12', 'CARDINAL'), ('4 hours', 'TIME'), ('Grade', 'PERSON'), ('10', 'CARDINAL'), ('Girls Club', 'ORG'), ('4 hours', 'TIME'), ('Social Media Club', 'ORG'), ('junior year', 'DATE'), ('Grades', 'PERSON'), ('10-12', 'CARDINAL'), ('American Heritage', 'ORG'), ('Chinese', 'NORP'), ('3 hours', 'TIME'), ('COMMUNITY SERVICE Memorial Hospital Pembroke', 'ORG'), ('June 2020', 'DATE'), ('10 hours', 'TIME'), ('Florida', 'GPE'), ('August 2018', 'DATE'), ('Prepare', 'ORG'), ('6 hours/week', 'TIME'), ('American Heritage School', 'ORG'), ('August 2021', 'DATE'), ('Peer', 'PERSON'), ('Chinese', 'NORP'), ('4 hours', 'TIME'), ('Plantation Summer Camp Summer 2022', 'EVENT'), ('ages 4-11', 'DATE'), ('24 hours', 'TIME'), ('American Heritage Camp - Lifeguard', 'ORG'), ('Summer 2022', 'DATE'), ('2023', 'DATE'), ('Poke Boba - Cashier/Waitress', 'PERSON'), ('February 2023-July 2023', 'DATE')]\n",
      "Entities in resume: [('Gabriella Smith', 'PERSON'), ('719', 'CARDINAL'), ('Gainesville', 'GPE'), ('FL GPA', 'ORG'), ('3.83', 'CARDINAL'), ('Python', 'GPE'), ('C++', 'PERSON'), ('JavaScript', 'ORG'), ('HTML', 'ORG'), ('CSS', 'ORG'), ('Anaconda', 'GPE'), ('Unity', 'ORG'), ('IBM', 'ORG'), ('Verizon University', 'ORG'), ('October 2023', 'DATE'), ('Summer Immersion Program TA', 'ORG'), ('June 2023', 'DATE'), ('120', 'CARDINAL'), ('JavaScript', 'ORG'), ('the P5Play Library', 'ORG'), ('16', 'CARDINAL'), ('Computer Science Summer Institute Scholar', 'ORG'), ('Google July 2022', 'ORG'), ('August 2022', 'DATE'), ('• Collaborated', 'ORG'), ('HTML/CSS', 'ORG'), ('JavaScript', 'PRODUCT'), ('Google Engineers', 'ORG'), ('• Completed', 'PRODUCT'), ('10', 'CARDINAL'), ('JavaScript', 'ORG'), ('6', 'CARDINAL'), ('Google Engineers', 'ORG'), ('• Delivered', 'PRODUCT'), ('Google Employees', 'ORG'), ('Dream Team Engineering', 'ORG'), ('August 2023', 'DATE'), ('Projects Marietta Local Art Scene', 'ORG'), ('JavaScript', 'PRODUCT'), ('HTML', 'ORG'), ('June 2023', 'DATE'), ('two days', 'DATE'), ('Recipe Helper – JavaScript', 'ORG'), ('HTML', 'ORG'), ('July 2022', 'DATE'), ('JavaScript', 'ORG'), ('two', 'CARDINAL'), ('Google Employees', 'ORG'), ('Extracurriculars Gamma Phi Beta Academics Chair', 'PERSON'), ('Dream Team Engineering', 'ORG'), ('Society of Women Engineers', 'ORG'), ('Virtual Experiences Research Group', 'ORG')]\n",
      "Entities in resume: [('Natalia Piascik', 'PERSON'), ('941', 'CARDINAL'), ('914', 'CARDINAL'), ('Education University', 'ORG'), ('3.9', 'CARDINAL'), ('Santa Fe College • Associate of Science in Engineering •', 'ORG'), ('4.0', 'CARDINAL'), ('May 2026', 'DATE'), ('May 2023', 'DATE'), ('Engineering Intern', 'PERSON'), ('Sarasota Medical Products', 'ORG'), ('Sarasota', 'GPE'), ('FL • Implemented', 'ORG'), ('FDA', 'ORG'), ('• Executed', 'PRODUCT'), ('• Created', 'ORG'), ('• Trained', 'ORG'), ('FDA', 'ORG'), ('Diane Partington Studio', 'PERSON'), ('Classical Ballet', 'ORG'), ('Sarasota', 'GPE'), ('FL', 'ORG'), ('• Choreograph', 'PRODUCT'), ('• Network', 'PRODUCT'), ('• Mentor', 'PRODUCT'), ('July 2019- June 2022', 'DATE'), ('Present Extracurriculars Dream Team Engineering', 'ORG'), ('University of Florida • Used Materialize', 'ORG'), ('Meshmixer', 'PERSON'), ('SolidWorks', 'ORG'), ('• Worked', 'PERSON'), ('CSSALT', 'ORG'), ('the University of Florida', 'ORG'), ('Volunteer', 'PRODUCT'), ('Sarasota •', 'PERSON'), ('• Installed', 'PRODUCT'), ('August 2023-', 'DATE'), ('May 2023', 'DATE'), ('Programming Languages (Python', 'ORG'), ('JavaScript', 'ORG')]\n"
     ]
    }
   ],
   "source": [
    "import spacy\n",
    "\n",
    "# Load spaCy NER model\n",
    "nlp = spacy.load('en_core_web_sm')\n",
    "\n",
    "def extract_entities(text):\n",
    "    doc = nlp(text)\n",
    "    entities = []\n",
    "    for ent in doc.ents:\n",
    "        entities.append((ent.text, ent.label_))\n",
    "    return entities\n",
    "\n",
    "# Extract entities from each resume\n",
    "for resume in resumes:\n",
    "    entities = extract_entities(resume)\n",
    "    print(f\"Entities in resume: {entities}\")"
   ]
  },
  {
   "cell_type": "code",
   "execution_count": 23,
   "metadata": {},
   "outputs": [
    {
     "name": "stdout",
     "output_type": "stream",
     "text": [
      "Resume data has been saved to /Users/utsavsharma/Desktop/RR/resume_data.csv\n"
     ]
    }
   ],
   "source": [
    "import pandas as pd\n",
    "\n",
    "# Define a function to extract and organize entities\n",
    "def extract_resume_info(text):\n",
    "    doc = nlp(text)\n",
    "    info = {\n",
    "        \"Name\": [],\n",
    "        \"Email\": [],\n",
    "        \"Education\": [],\n",
    "        \"Skills\": [],\n",
    "        \"Experience\": []\n",
    "    }\n",
    "    for ent in doc.ents:\n",
    "        if ent.label_ == \"PERSON\":\n",
    "            info[\"Name\"].append(ent.text)\n",
    "        elif ent.label_ == \"EMAIL\":\n",
    "            info[\"Email\"].append(ent.text)\n",
    "        elif ent.label_ in [\"ORG\", \"GPE\"]:\n",
    "            info[\"Education\"].append(ent.text)\n",
    "        elif ent.label_ == \"SKILL\":  # Assuming you have custom skills entities\n",
    "            info[\"Skills\"].append(ent.text)\n",
    "        elif ent.label_ == \"WORK_OF_ART\":  # This is just an example, adjust as necessary\n",
    "            info[\"Experience\"].append(ent.text)\n",
    "    return info\n",
    "\n",
    "# Create a DataFrame to store all resume information\n",
    "resume_data = []\n",
    "\n",
    "for resume in resumes:\n",
    "    resume_info = extract_resume_info(resume)\n",
    "    resume_data.append(resume_info)\n",
    "\n",
    "df = pd.DataFrame(resume_data)\n",
    "\n",
    "# Save the DataFrame to a CSV file\n",
    "csv_file_path = '/Users/utsavsharma/Desktop/RR/resume_data.csv'\n",
    "df.to_csv(csv_file_path, index=False)\n",
    "\n",
    "print(f\"Resume data has been saved to {csv_file_path}\")\n"
   ]
  },
  {
   "cell_type": "code",
   "execution_count": 24,
   "metadata": {},
   "outputs": [],
   "source": [
    "# Path to your CSV file\n",
    "csv_file_path = '/Users/utsavsharma/Desktop/RR/resume_data.csv'\n",
    "\n",
    "# Load the CSV file into a DataFrame\n",
    "df = pd.read_csv(csv_file_path)"
   ]
  },
  {
   "cell_type": "code",
   "execution_count": 25,
   "metadata": {},
   "outputs": [],
   "source": [
    "# Load spaCy model\n",
    "nlp = spacy.load('en_core_web_sm')\n",
    "\n",
    "# Define a list of common skill keywords (you can expand this list)\n",
    "common_skills = [\n",
    "    'Python', 'Java', 'C++', 'SQL', 'Machine Learning', 'Data Science', \n",
    "    'Deep Learning', 'Natural Language Processing', 'NLP', 'Statistics', \n",
    "    'Data Analysis', 'TensorFlow', 'PyTorch', 'Keras', 'Excel', 'R', 'Git'\n",
    "]\n",
    "\n",
    "def extract_skills(text):\n",
    "    doc = nlp(text)\n",
    "    skills = []\n",
    "    for token in doc:\n",
    "        if token.text in common_skills:\n",
    "            skills.append(token.text)\n",
    "    return skills\n",
    "\n",
    "# Apply the skill extraction function to each row in the DataFrame\n",
    "df['Skills_Extracted'] = df['Skills'].apply(lambda x: extract_skills(str(x)))"
   ]
  },
  {
   "cell_type": "code",
   "execution_count": 26,
   "metadata": {},
   "outputs": [
    {
     "name": "stdout",
     "output_type": "stream",
     "text": [
      "Empty DataFrame\n",
      "Columns: [Skill, Count]\n",
      "Index: []\n"
     ]
    }
   ],
   "source": [
    "# Aggregate skills\n",
    "all_skills = df['Skills_Extracted'].explode().value_counts()\n",
    "\n",
    "# Convert to a DataFrame for neat presentation\n",
    "skills_df = pd.DataFrame(all_skills).reset_index()\n",
    "skills_df.columns = ['Skill', 'Count']\n",
    "\n",
    "# Display the DataFrame\n",
    "print(skills_df)"
   ]
  }
 ],
 "metadata": {
  "kernelspec": {
   "display_name": "Python 3",
   "language": "python",
   "name": "python3"
  },
  "language_info": {
   "codemirror_mode": {
    "name": "ipython",
    "version": 3
   },
   "file_extension": ".py",
   "mimetype": "text/x-python",
   "name": "python",
   "nbconvert_exporter": "python",
   "pygments_lexer": "ipython3",
   "version": "3.11.8"
  }
 },
 "nbformat": 4,
 "nbformat_minor": 2
}
