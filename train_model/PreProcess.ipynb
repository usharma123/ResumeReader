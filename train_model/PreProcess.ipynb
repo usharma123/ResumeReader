{
 "cells": [
  {
   "cell_type": "code",
   "execution_count": 2,
   "metadata": {},
   "outputs": [
    {
     "name": "stderr",
     "output_type": "stream",
     "text": [
      "[nltk_data] Downloading package punkt to\n",
      "[nltk_data]     /Users/utsavsharma/nltk_data...\n",
      "[nltk_data]   Package punkt is already up-to-date!\n"
     ]
    },
    {
     "data": {
      "text/plain": [
       "True"
      ]
     },
     "execution_count": 2,
     "metadata": {},
     "output_type": "execute_result"
    }
   ],
   "source": [
    "import os\n",
    "import pandas as pd\n",
    "from PyPDF2 import PdfReader\n",
    "import docx\n",
    "from io import BytesIO\n",
    "import nltk\n",
    "import ssl\n",
    "# Bypass SSL certificate verification\n",
    "ssl._create_default_https_context = ssl._create_unverified_context\n",
    "\n",
    "# Download NLTK data\n",
    "nltk.download('punkt')\n"
   ]
  },
  {
   "cell_type": "code",
   "execution_count": 3,
   "metadata": {},
   "outputs": [
    {
     "name": "stdout",
     "output_type": "stream",
     "text": [
      "Text extraction complete. Saved to resumes_text.csv.\n"
     ]
    }
   ],
   "source": [
    "# Function to extract text from PDF\n",
    "def extract_text_from_pdf(pdf_path):\n",
    "    text = \"\"\n",
    "    reader = PdfReader(pdf_path)\n",
    "    for page in reader.pages:\n",
    "        text += page.extract_text()\n",
    "    return text\n",
    "\n",
    "# Function to extract text from DOCX\n",
    "def extract_text_from_docx(docx_path):\n",
    "    doc = docx.Document(docx_path)\n",
    "    text = \"\\n\".join([paragraph.text for paragraph in doc.paragraphs])\n",
    "    return text\n",
    "\n",
    "# Directory containing the resumes\n",
    "resume_directory = '/Users/utsavsharma/Desktop/RR/Resumes'  # Update this to your directory path\n",
    "resume_data = []\n",
    "\n",
    "# Process each file in the directory\n",
    "for filename in os.listdir(resume_directory):\n",
    "    if filename.endswith(\".pdf\"):\n",
    "        file_path = os.path.join(resume_directory, filename)\n",
    "        text = extract_text_from_pdf(file_path)\n",
    "    elif filename.endswith(\".docx\"):\n",
    "        file_path = os.path.join(resume_directory, filename)\n",
    "        text = extract_text_from_docx(file_path)\n",
    "    else:\n",
    "        continue\n",
    "    \n",
    "    resume_data.append({\"filename\": filename, \"text\": text})\n",
    "\n",
    "# Save the extracted data to a CSV file\n",
    "df = pd.DataFrame(resume_data)\n",
    "df.to_csv('resumes_text.csv', index=False)\n",
    "print(\"Text extraction complete. Saved to resumes_text.csv.\")"
   ]
  },
  {
   "cell_type": "code",
   "execution_count": null,
   "metadata": {},
   "outputs": [],
   "source": []
  }
 ],
 "metadata": {
  "kernelspec": {
   "display_name": "Python 3",
   "language": "python",
   "name": "python3"
  },
  "language_info": {
   "codemirror_mode": {
    "name": "ipython",
    "version": 3
   },
   "file_extension": ".py",
   "mimetype": "text/x-python",
   "name": "python",
   "nbconvert_exporter": "python",
   "pygments_lexer": "ipython3",
   "version": "3.11.8"
  }
 },
 "nbformat": 4,
 "nbformat_minor": 2
}
