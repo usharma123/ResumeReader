{
 "cells": [
  {
   "cell_type": "code",
   "execution_count": 14,
   "metadata": {},
   "outputs": [
    {
     "name": "stdout",
     "output_type": "stream",
     "text": [
      "/Users/utsavsharma/Desktop/RR/Resumes/HK.docx\n",
      "/Users/utsavsharma/Desktop/RR/Resumes/.DS_Store\n",
      "/Users/utsavsharma/Desktop/RR/Resumes/Resume (2) - Alex Kim.pdf\n",
      "/Users/utsavsharma/Desktop/RR/Resumes/Resume - Selene H.pdf\n",
      "/Users/utsavsharma/Desktop/RR/Resumes/Copy of Bản sao của LÊ MINH ĐẠT Resume - Đạt Lê minh.pdf\n",
      "/Users/utsavsharma/Desktop/RR/Resumes/Ayush.Jain_Resume - Ayush.pdf\n",
      "/Users/utsavsharma/Desktop/RR/Resumes/Mia Molinelli MASTER Resume  - Mia Molinelli.pdf\n",
      "/Users/utsavsharma/Desktop/RR/Resumes/Jayden Spitulnik Resume - Jayden Spitulnik.docx\n",
      "/Users/utsavsharma/Desktop/RR/Resumes/Andriana Detsis Fall 2023 Resume - Detsis, Andriana S..pdf\n",
      "/Users/utsavsharma/Desktop/RR/Resumes/Evan_Hadam_Resume - Evan Hadam.pdf\n",
      "/Users/utsavsharma/Desktop/RR/Resumes/navya_nair_Resume (2) - Navya Nair.pdf\n",
      "/Users/utsavsharma/Desktop/RR/Resumes/2023 Resume Ella Mendelowitz - Ella.pdf\n",
      "/Users/utsavsharma/Desktop/RR/Resumes/Ansh Parikh_2023 Resume - Ansh Parikh.pdf\n",
      "/Users/utsavsharma/Desktop/RR/Resumes/Utsav Resume - Utsav Sharma.docx\n",
      "/Users/utsavsharma/Desktop/RR/Resumes/Sanandan-CV-2023-12-20-DTE - Sanandan Ojha.docx\n",
      "/Users/utsavsharma/Desktop/RR/Resumes/Ania Updated Resume  - Ania K.pdf\n",
      "/Users/utsavsharma/Desktop/RR/Resumes/GS Resume 2023 - Gaby Smith.pdf\n",
      "/Users/utsavsharma/Desktop/RR/Resumes/Natalia Piascik Resume - Piascik, Natalia E..pdf\n"
     ]
    }
   ],
   "source": [
    "import numpy as np # linear algebra\n",
    "import pandas as pd # data processing, CSV file I/O (e.g. pd.read_csv)\n",
    "import spacy\n",
    "import pickle\n",
    "import random\n",
    "from spacy.training.example import Example\n",
    "import os\n",
    "for dirname, _, filenames in os.walk('/Users/utsavsharma/Desktop/RR/Resumes'):\n",
    "    for filename in filenames:\n",
    "        print(os.path.join(dirname, filename))"
   ]
  },
  {
   "cell_type": "code",
   "execution_count": 15,
   "metadata": {},
   "outputs": [
    {
     "data": {
      "text/plain": [
       "('Govardhana K Senior Software Engineer  Bengaluru, Karnataka, Karnataka - Email me on Indeed: indeed.com/r/Govardhana-K/ b2de315d95905b68  Total IT experience 5 Years 6 Months Cloud Lending Solutions INC 4 Month • Salesforce Developer Oracle 5 Years 2 Month • Core Java Developer Languages Core Java, Go Lang Oracle PL-SQL programming, Sales Force Developer with APEX.  Designations & Promotions  Willing to relocate: Anywhere  WORK EXPERIENCE  Senior Software Engineer  Cloud Lending Solutions -  Bangalore, Karnataka -  January 2018 to Present  Present  Senior Consultant  Oracle -  Bangalore, Karnataka -  November 2016 to December 2017  Staff Consultant  Oracle -  Bangalore, Karnataka -  January 2014 to October 2016  Associate Consultant  Oracle -  Bangalore, Karnataka -  November 2012 to December 2013  EDUCATION  B.E in Computer Science Engineering  Adithya Institute of Technology -  Tamil Nadu  September 2008 to June 2012  https://www.indeed.com/r/Govardhana-K/b2de315d95905b68?isid=rex-download&ikw=download-top&co=IN https://www.indeed.com/r/Govardhana-K/b2de315d95905b68?isid=rex-download&ikw=download-top&co=IN   SKILLS  APEX. (Less than 1 year), Data Structures (3 years), FLEXCUBE (5 years), Oracle (5 years), Algorithms (3 years)  LINKS  https://www.linkedin.com/in/govardhana-k-61024944/  ADDITIONAL INFORMATION  Technical Proficiency:  Languages: Core Java, Go Lang, Data Structures & Algorithms, Oracle PL-SQL programming, Sales Force with APEX. Tools: RADTool, Jdeveloper, NetBeans, Eclipse, SQL developer, PL/SQL Developer, WinSCP, Putty Web Technologies: JavaScript, XML, HTML, Webservice  Operating Systems: Linux, Windows Version control system SVN & Git-Hub Databases: Oracle Middleware: Web logic, OC4J Product FLEXCUBE: Oracle FLEXCUBE Versions 10.x, 11.x and 12.x  https://www.linkedin.com/in/govardhana-k-61024944/',\n",
       " {'entities': [(1749, 1755, 'Companies worked at'),\n",
       "   (1696, 1702, 'Companies worked at'),\n",
       "   (1417, 1423, 'Companies worked at'),\n",
       "   (1356, 1793, 'Skills'),\n",
       "   (1209, 1215, 'Companies worked at'),\n",
       "   (1136, 1248, 'Skills'),\n",
       "   (928, 932, 'Graduation Year'),\n",
       "   (858, 889, 'College Name'),\n",
       "   (821, 856, 'Degree'),\n",
       "   (787, 791, 'Graduation Year'),\n",
       "   (744, 750, 'Companies worked at'),\n",
       "   (722, 742, 'Designation'),\n",
       "   (658, 664, 'Companies worked at'),\n",
       "   (640, 656, 'Designation'),\n",
       "   (574, 580, 'Companies worked at'),\n",
       "   (555, 573, 'Designation'),\n",
       "   (470, 493, 'Companies worked at'),\n",
       "   (444, 469, 'Designation'),\n",
       "   (308, 314, 'Companies worked at'),\n",
       "   (234, 240, 'Companies worked at'),\n",
       "   (175, 198, 'Companies worked at'),\n",
       "   (93, 137, 'Email Address'),\n",
       "   (39, 48, 'Location'),\n",
       "   (13, 38, 'Designation'),\n",
       "   (0, 12, 'Name')]})"
      ]
     },
     "execution_count": 15,
     "metadata": {},
     "output_type": "execute_result"
    }
   ],
   "source": [
    "train_data = pickle.load(open('/Users/utsavsharma/Desktop/RR/train_data.pkl','rb'))\n",
    "train_data[0]\n"
   ]
  }
 ],
 "metadata": {
  "kernelspec": {
   "display_name": "Python 3",
   "language": "python",
   "name": "python3"
  },
  "language_info": {
   "codemirror_mode": {
    "name": "ipython",
    "version": 3
   },
   "file_extension": ".py",
   "mimetype": "text/x-python",
   "name": "python",
   "nbconvert_exporter": "python",
   "pygments_lexer": "ipython3",
   "version": "3.11.8"
  }
 },
 "nbformat": 4,
 "nbformat_minor": 2
}
